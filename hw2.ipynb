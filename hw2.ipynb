{
 "cells": [
  {
   "cell_type": "code",
   "execution_count": 1,
   "metadata": {
    "collapsed": true
   },
   "outputs": [],
   "source": [
    "import csv\n",
    "import time\n",
    "import sys\n",
    "import matplotlib.pyplot as plt\n",
    "import numpy as np\n"
   ]
  },
  {
   "cell_type": "code",
   "execution_count": 2,
   "metadata": {
    "collapsed": true
   },
   "outputs": [],
   "source": [
    "def load_data(filename):\n",
    "    \"\"\"Load in the yaw data from the csv log\n",
    "\n",
    "    Parameters:\n",
    "    filename (str)  -- the name of the csv log\n",
    "\n",
    "    Returns:\n",
    "    yaw_data (float list)   -- the logged yaw data\n",
    "    \"\"\"\n",
    "    f = open(filename)\n",
    "\n",
    "    file_reader = csv.reader(f, delimiter=',')\n",
    "\n",
    "    # Load data into dictionary with headers as keys\n",
    "    # Header: Latitude, Longitude, Time Stamp(ms), ...\n",
    "    # ..., Yaw(degrees), Pitch(degrees), Roll(degrees)\n",
    "    data = {}\n",
    "    header = next(file_reader, None)\n",
    "    for h in header:\n",
    "        data[h] = []\n",
    "\n",
    "    for row in file_reader:\n",
    "        for h, element in zip(header, row):\n",
    "            data[h].append(float(element))\n",
    "\n",
    "    f.close()\n",
    "\n",
    "    yaw_data = data[\"Yaw(degrees)\"]\n",
    "\n",
    "    return yaw_data"
   ]
  },
  {
   "cell_type": "code",
   "execution_count": 3,
   "metadata": {
    "collapsed": true
   },
   "outputs": [],
   "source": [
    "def prediction_step(x_t_prev, sigma_sq_t_prev):\n",
    "    \"\"\"Compute the prediction of 1D Kalman Filter\n",
    "\n",
    "    Parameters:\n",
    "    x_t_prev        -- the previous state estimate\n",
    "    sigma_sq_t_prev -- the previous variance estimate\n",
    "\n",
    "    Returns:\n",
    "    x_bar_t         -- the predicted state estimate of time t\n",
    "    sigma_sq_bar_t  -- the predicted variance estimate of time t\n",
    "    \"\"\"\n",
    "\n",
    "    \"\"\"STUDENT CODE START\"\"\"\n",
    "    x_bar_t = None\n",
    "    sigma_sq_bar_t = None\n",
    "    \"\"\"STUDENT CODE END\"\"\"\n"
   ]
  },
  {
   "cell_type": "code",
   "execution_count": 4,
   "metadata": {
    "collapsed": true
   },
   "outputs": [],
   "source": [
    "def correction_step(x_bar_t, z_t, sigma_sq_bar_t, sigma_sq_z):\n",
    "    \"\"\"Compute the correction of 1D Kalman Filter\n",
    "\n",
    "    Parameters:\n",
    "    x_bar_t         -- the predicted state estimate of time t\n",
    "    z_t             -- the measured state of time t\n",
    "    sigma_sq_bar_t  -- the predicted variance of time t\n",
    "    sigma_z         -- the variance of sensor measurement\n",
    "\n",
    "\n",
    "    Returns:\n",
    "    x_est_t         -- the filtered state estimate of time t\n",
    "    sigma_sq_est_t  -- the filtered variance estimate of time t\n",
    "    \"\"\"\n",
    "\n",
    "    \"\"\"STUDENT CODE START\"\"\"\n",
    "    x_est_t = None\n",
    "    sigma_sq_est_t = None\n",
    "\n",
    "    \"\"\"STUDENT CODE END\"\"\"\n",
    "\n",
    "    return [x_est_t, sigma_sq_est_t]"
   ]
  },
  {
   "cell_type": "code",
   "execution_count": 5,
   "metadata": {
    "collapsed": true
   },
   "outputs": [],
   "source": [
    "def wrap_to_360(angle):\n",
    "    \"\"\"Wrap angle data to [0, 360]\"\"\"\n",
    "    return (angle + 360) % 360\n"
   ]
  },
  {
   "cell_type": "code",
   "execution_count": 6,
   "metadata": {
    "collapsed": true
   },
   "outputs": [],
   "source": [
    "def wrap_to_360(angle):\n",
    "    \"\"\"Wrap angle data to [0, 360]\"\"\"\n",
    "    return (angle + 360) % 360\n",
    "\n",
    "\n",
    "def plot_yaw(yaw_dict, time_stamps, title=None, xlim=None, ylim=None):\n",
    "    \"\"\"Plot yaw data\"\"\"\n",
    "    plt.plot(np.asarray(time_stamps),\n",
    "             np.array(yaw_dict[\"measurements\"]),\n",
    "             '.',\n",
    "             markersize=1)\n",
    "    plt.plot(np.asarray(time_stamps),\n",
    "             np.array(yaw_dict[\"estimates\"]),\n",
    "             '.',\n",
    "             markersize=1)\n",
    "    plt.plot(np.asarray(time_stamps),\n",
    "             np.asarray(yaw_dict[\"plus_2_stddev\"]),\n",
    "             '.-',\n",
    "             markersize=1,\n",
    "             linewidth=0.5)\n",
    "    plt.plot(np.asarray(time_stamps),\n",
    "             np.asarray(yaw_dict[\"minus_2_stddev\"]),\n",
    "             '.-',\n",
    "             markersize=1,\n",
    "             linewidth=0.5)\n",
    "    plt.legend([\"Raw Data\", \"Estimate\", \"+2$\\sigma$\", \"-2$\\sigma$\"])\n",
    "    plt.title(title)\n",
    "    plt.ylabel(\"Yaw (Degrees)\")\n",
    "    plt.xlabel(\"Time (s)\")\n",
    "    plt.xlim(xlim)\n",
    "    plt.ylim(ylim)\n"
   ]
  },
  {
   "cell_type": "code",
   "execution_count": 7,
   "metadata": {},
   "outputs": [
    {
     "ename": "FileNotFoundError",
     "evalue": "[Errno 2] No such file or directory: './2020-02-08_08;34;45.csv'",
     "output_type": "error",
     "traceback": [
      "\u001b[0;31m---------------------------------------------------------------------------\u001b[0m",
      "\u001b[0;31mFileNotFoundError\u001b[0m                         Traceback (most recent call last)",
      "\u001b[0;32m<ipython-input-7-943df81a0bb7>\u001b[0m in \u001b[0;36m<module>\u001b[0;34m\u001b[0m\n\u001b[1;32m     81\u001b[0m \u001b[0;34m\u001b[0m\u001b[0m\n\u001b[1;32m     82\u001b[0m \u001b[0;32mif\u001b[0m \u001b[0m__name__\u001b[0m \u001b[0;34m==\u001b[0m \u001b[0;34m\"__main__\"\u001b[0m\u001b[0;34m:\u001b[0m\u001b[0;34m\u001b[0m\u001b[0;34m\u001b[0m\u001b[0m\n\u001b[0;32m---> 83\u001b[0;31m     \u001b[0mmain\u001b[0m\u001b[0;34m(\u001b[0m\u001b[0;34m)\u001b[0m\u001b[0;34m\u001b[0m\u001b[0;34m\u001b[0m\u001b[0m\n\u001b[0m",
      "\u001b[0;32m<ipython-input-7-943df81a0bb7>\u001b[0m in \u001b[0;36mmain\u001b[0;34m()\u001b[0m\n\u001b[1;32m      4\u001b[0m     \u001b[0mfilepath\u001b[0m \u001b[0;34m=\u001b[0m \u001b[0;34m\"./\"\u001b[0m\u001b[0;34m\u001b[0m\u001b[0;34m\u001b[0m\u001b[0m\n\u001b[1;32m      5\u001b[0m     \u001b[0mfilename\u001b[0m \u001b[0;34m=\u001b[0m \u001b[0;34m\"2020-02-08_08;34;45.csv\"\u001b[0m\u001b[0;34m\u001b[0m\u001b[0;34m\u001b[0m\u001b[0m\n\u001b[0;32m----> 6\u001b[0;31m     \u001b[0myaw_data\u001b[0m \u001b[0;34m=\u001b[0m \u001b[0mload_data\u001b[0m\u001b[0;34m(\u001b[0m\u001b[0mfilepath\u001b[0m \u001b[0;34m+\u001b[0m \u001b[0mfilename\u001b[0m\u001b[0;34m)\u001b[0m\u001b[0;34m\u001b[0m\u001b[0;34m\u001b[0m\u001b[0m\n\u001b[0m\u001b[1;32m      7\u001b[0m \u001b[0;34m\u001b[0m\u001b[0m\n\u001b[1;32m      8\u001b[0m     \u001b[0;34m\"\"\"STUDENT CODE START\"\"\"\u001b[0m\u001b[0;34m\u001b[0m\u001b[0;34m\u001b[0m\u001b[0m\n",
      "\u001b[0;32m<ipython-input-2-293340af3026>\u001b[0m in \u001b[0;36mload_data\u001b[0;34m(filename)\u001b[0m\n\u001b[1;32m      8\u001b[0m     \u001b[0myaw_data\u001b[0m \u001b[0;34m(\u001b[0m\u001b[0mfloat\u001b[0m \u001b[0mlist\u001b[0m\u001b[0;34m)\u001b[0m   \u001b[0;34m-\u001b[0m\u001b[0;34m-\u001b[0m \u001b[0mthe\u001b[0m \u001b[0mlogged\u001b[0m \u001b[0myaw\u001b[0m \u001b[0mdata\u001b[0m\u001b[0;34m\u001b[0m\u001b[0;34m\u001b[0m\u001b[0m\n\u001b[1;32m      9\u001b[0m     \"\"\"\n\u001b[0;32m---> 10\u001b[0;31m     \u001b[0mf\u001b[0m \u001b[0;34m=\u001b[0m \u001b[0mopen\u001b[0m\u001b[0;34m(\u001b[0m\u001b[0mfilename\u001b[0m\u001b[0;34m)\u001b[0m\u001b[0;34m\u001b[0m\u001b[0;34m\u001b[0m\u001b[0m\n\u001b[0m\u001b[1;32m     11\u001b[0m \u001b[0;34m\u001b[0m\u001b[0m\n\u001b[1;32m     12\u001b[0m     \u001b[0mfile_reader\u001b[0m \u001b[0;34m=\u001b[0m \u001b[0mcsv\u001b[0m\u001b[0;34m.\u001b[0m\u001b[0mreader\u001b[0m\u001b[0;34m(\u001b[0m\u001b[0mf\u001b[0m\u001b[0;34m,\u001b[0m \u001b[0mdelimiter\u001b[0m\u001b[0;34m=\u001b[0m\u001b[0;34m','\u001b[0m\u001b[0;34m)\u001b[0m\u001b[0;34m\u001b[0m\u001b[0;34m\u001b[0m\u001b[0m\n",
      "\u001b[0;31mFileNotFoundError\u001b[0m: [Errno 2] No such file or directory: './2020-02-08_08;34;45.csv'"
     ]
    }
   ],
   "source": [
    "\n",
    "def main():\n",
    "    \"\"\"Run a 1D Kalman Filter on logged yaw data from a BNO055 IMU.\"\"\"\n",
    "\n",
    "    filepath = \"./\"\n",
    "    filename = \"2020-02-08_08;34;45.csv\"\n",
    "    yaw_data = load_data(filepath + filename)\n",
    "\n",
    "    \"\"\"STUDENT CODE START\"\"\"\n",
    "    SENSOR_MODEL_VARIANCE = None\n",
    "    \"\"\"STUDENT CODE END\"\"\"\n",
    "\n",
    "    #  Initialize filter\n",
    "    yaw_est_t_prev = yaw_data[0]\n",
    "    var_t_prev = SENSOR_MODEL_VARIANCE\n",
    "    yaw_dict[\"measurements\"] = yaw_data\n",
    "    yaw_dict[\"estimates\"] = []\n",
    "    yaw_dict[\"plus_2_stddev\"] = []\n",
    "    yaw_dict[\"minus_2_stddev\"] = []\n",
    "    time_stamps = []\n",
    "\n",
    "    #  Run filter over data\n",
    "    for t, _ in enumerate(yaw_data):\n",
    "        yaw_pred_t, var_pred_t = prediction_step(yaw_est_t_prev, var_t_prev)\n",
    "\n",
    "        # To be explicit for teaching purposes, we are getting\n",
    "        # the measurement with index 't' to show how we get a\n",
    "        # new measurement each time step. To be more pythonic we could\n",
    "        # replace the '_' above with 'yaw_meas'\n",
    "        yaw_meas = yaw_data[t]\n",
    "        var_z = SENSOR_MODEL_VARIANCE\n",
    "\n",
    "        yaw_est_t, var_est_t = correction_step(yaw_pred_t,\n",
    "                                               yaw_meas,\n",
    "                                               var_pred_t,\n",
    "                                               var_z)\n",
    "\n",
    "        #  Format the printouts\n",
    "        sys.stdout.write(\"Yaw State Estimate: {0}\\n\\\n",
    "                         \\rYaw Raw Data:       {1}\\\n",
    "                         \\033[A\\r\".format(yaw_est_t, yaw_meas))\n",
    "        sys.stdout.flush()\n",
    "\n",
    "        #  Pause the printouts to simulate the real data rate\n",
    "        dt = 1/13.  # seconds\n",
    "        time_stamps.append(dt*t)\n",
    "\n",
    "        #  Comment out sleep to visualize the plot immediately\n",
    "        # time.sleep(dt)\n",
    "\n",
    "        #  For clarity sake/teaching purposes, we explicitly update t->(t-1)\n",
    "        yaw_est_t_prev = yaw_est_t\n",
    "        var_est_t_prev = var_est_t\n",
    "\n",
    "        # Pack data away into yaw dictionary for plotting purpose\n",
    "        plus_2_stddev = wrap_to_360(yaw_est_t + 2*sqrt(var_est_t))\n",
    "        minus_2_stddev = wrap_to_360(yaw_est_t - 2*sqrt(var_est_t))\n",
    "\n",
    "        yaw_dict[\"estimates\"].append(yaw_est_t)\n",
    "        yaw_dict[\"plus_2_stddev\"].append(plus_2_stddev)\n",
    "        yaw_dict[\"minus_2_stddev\"].append(minus_2_stddev)\n",
    "\n",
    "    print(\"\\n\\nDone filtering...plotting...\")\n",
    "\n",
    "    # Plot raw data and estimate\n",
    "    plt.figure(1)\n",
    "    plt.suptitle(\"1D Kalman Filtering: Yaw Measurements\")\n",
    "    plt.subplot(1, 2, 1)\n",
    "    plot_yaw(yaw_dict, time_stamps, title=\"Full Log\")\n",
    "    plt.subplot(1, 2, 2)\n",
    "    plot_yaw(yaw_dict,\n",
    "             time_stamps,\n",
    "             title=\"Zoomed\",\n",
    "             xlim=[8, 12],\n",
    "             ylim=[280, 360])\n",
    "    plt.show()\n",
    "\n",
    "    print(\"Exiting...\")\n",
    "\n",
    "    return 0\n",
    "\n",
    "\n",
    "if __name__ == \"__main__\":\n",
    "    main()\n"
   ]
  },
  {
   "cell_type": "code",
   "execution_count": null,
   "metadata": {
    "collapsed": true
   },
   "outputs": [],
   "source": []
  }
 ],
 "metadata": {
  "kernelspec": {
   "display_name": "e190",
   "language": "python",
   "name": "e190"
  },
  "language_info": {
   "codemirror_mode": {
    "name": "ipython",
    "version": 3
   },
   "file_extension": ".py",
   "mimetype": "text/x-python",
   "name": "python",
   "nbconvert_exporter": "python",
   "pygments_lexer": "ipython3",
   "version": "3.7.6"
  }
 },
 "nbformat": 4,
 "nbformat_minor": 2
}
